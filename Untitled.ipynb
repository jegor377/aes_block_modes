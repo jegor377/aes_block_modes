{
 "cells": [
  {
   "cell_type": "code",
   "execution_count": 1,
   "id": "47c9972c-3766-4ba2-a20c-c4bf57f429de",
   "metadata": {},
   "outputs": [],
   "source": [
    "import os\n",
    "from cryptography.hazmat.primitives import padding\n",
    "from cryptography.hazmat.primitives.ciphers import Cipher\n",
    "from cryptography.hazmat.primitives.ciphers.algorithms import AES\n",
    "from cryptography.hazmat.primitives.ciphers.modes import ECB, CBC"
   ]
  },
  {
   "cell_type": "code",
   "execution_count": 2,
   "id": "18dfd6f5-f17f-4dd1-8463-7fa0d328400e",
   "metadata": {},
   "outputs": [
    {
     "name": "stdout",
     "output_type": "stream",
     "text": [
      "Plaintext (34): b'Fundamental Cryptography in Python'\n"
     ]
    }
   ],
   "source": [
    "plaintext = b'Fundamental Cryptography in Python'\n",
    "print(f\"Plaintext ({len(plaintext)}): {plaintext}\")"
   ]
  },
  {
   "cell_type": "code",
   "execution_count": 3,
   "id": "498c5792-ab26-4ada-80d5-d1a0e70174d8",
   "metadata": {},
   "outputs": [
    {
     "name": "stdout",
     "output_type": "stream",
     "text": [
      "b'\\x04\\xed\\xe5]\\xf6ul\\n\\xbek\\x8c\\xcch>.\\xf9\\xa0\\xc6\\xd8A\\xff\\\\5\\x19\\x1c\\x00\\xcaN\\xdc\\xbac\\x17'\n",
      "32\n"
     ]
    }
   ],
   "source": [
    "# 256-bit symmetric key\n",
    "key = os.urandom(32)\n",
    "print(key)\n",
    "print(len(key))"
   ]
  },
  {
   "cell_type": "code",
   "execution_count": 4,
   "id": "d864d755-911a-4e95-a3b1-cf3205b87244",
   "metadata": {},
   "outputs": [],
   "source": [
    "# AES ECB cipher\n",
    "aes_ecb_cipher = Cipher(AES(key), ECB())"
   ]
  },
  {
   "cell_type": "code",
   "execution_count": 5,
   "id": "7e67f5f1-218a-4579-9f86-708af65e36bd",
   "metadata": {},
   "outputs": [
    {
     "name": "stdout",
     "output_type": "stream",
     "text": [
      "Ciphertext (no padding) (32): b\"\\x97\\xc2]\\xb9F\\x0f\\x17\\x9e[H,&H\\x03\\xe3\\x15!\\x88\\xe2w\\x82\\x0c['\\xe6\\x19\\x84\\xf5\\xfak\\x81=\"\n"
     ]
    }
   ],
   "source": [
    "# Encrypt without padding\n",
    "ciphertext = aes_ecb_cipher.encryptor().update(plaintext)\n",
    "print(f\"Ciphertext (no padding) ({len(ciphertext)}): {ciphertext}\")"
   ]
  },
  {
   "cell_type": "code",
   "execution_count": 6,
   "id": "743e9ea6-8d87-4dc8-a1f7-3ecfd7feab5e",
   "metadata": {},
   "outputs": [
    {
     "name": "stdout",
     "output_type": "stream",
     "text": [
      "Recovered plaintext (no padding) (32): b'Fundamental Cryptography in Pyth'\n"
     ]
    }
   ],
   "source": [
    "# Decrypt without padding\n",
    "recovered_plaintext = aes_ecb_cipher.decryptor().update(ciphertext)\n",
    "print(f\"Recovered plaintext (no padding) ({len(recovered_plaintext)}): {recovered_plaintext}\")"
   ]
  },
  {
   "cell_type": "code",
   "execution_count": 7,
   "id": "6c5f1afb-0378-484a-b850-51e06663b10f",
   "metadata": {},
   "outputs": [
    {
     "name": "stdout",
     "output_type": "stream",
     "text": [
      "Padded plaintext: b'Fundamental Cryptography in Python\\x0e\\x0e\\x0e\\x0e\\x0e\\x0e\\x0e\\x0e\\x0e\\x0e\\x0e\\x0e\\x0e\\x0e'\n"
     ]
    }
   ],
   "source": [
    "# Pad the plaintext\n",
    "aes_block_size_in_bits = 128\n",
    "pkcs7_padder = padding.PKCS7(aes_block_size_in_bits).padder()\n",
    "padded_plaintext = pkcs7_padder.update(plaintext) + pkcs7_padder.finalize()\n",
    "print(f\"Padded plaintext: {padded_plaintext}\")"
   ]
  },
  {
   "cell_type": "code",
   "execution_count": 8,
   "id": "54a42de3-c7e8-4040-80d8-e11323edb7e9",
   "metadata": {},
   "outputs": [
    {
     "name": "stdout",
     "output_type": "stream",
     "text": [
      "Ciphertext (48): b\"\\x97\\xc2]\\xb9F\\x0f\\x17\\x9e[H,&H\\x03\\xe3\\x15!\\x88\\xe2w\\x82\\x0c['\\xe6\\x19\\x84\\xf5\\xfak\\x81=\\xb8&\\xc0Q\\xa2\\x9d\\x9ay\\x00\\xb3\\x13\\xae\\x9a\\x02\\xd3\\x9c\"\n"
     ]
    }
   ],
   "source": [
    "# Encrypt with padding\n",
    "ciphertext = aes_ecb_cipher.encryptor().update(padded_plaintext)\n",
    "print(f\"Ciphertext ({len(ciphertext)}): {ciphertext}\")"
   ]
  },
  {
   "cell_type": "code",
   "execution_count": 9,
   "id": "963f61ac-f4b3-4990-9cf8-e15a6c10d32a",
   "metadata": {},
   "outputs": [
    {
     "name": "stdout",
     "output_type": "stream",
     "text": [
      "Recovered plaintext + padding: b'Fundamental Cryptography in Python\\x0e\\x0e\\x0e\\x0e\\x0e\\x0e\\x0e\\x0e\\x0e\\x0e\\x0e\\x0e\\x0e\\x0e'\n"
     ]
    }
   ],
   "source": [
    "# Decrypt with padding\n",
    "recovered_plaintext_with_padding = aes_ecb_cipher.decryptor().update(ciphertext)\n",
    "print(f\"Recovered plaintext + padding: {recovered_plaintext_with_padding}\")"
   ]
  },
  {
   "cell_type": "code",
   "execution_count": 10,
   "id": "f8af4c01-3dec-4b48-8909-cf4fe4ba356d",
   "metadata": {},
   "outputs": [
    {
     "name": "stdout",
     "output_type": "stream",
     "text": [
      "Recovered plaintext: b'Fundamental Cryptography in Python'\n"
     ]
    }
   ],
   "source": [
    "pkcs7_unpadder = padding.PKCS7(aes_block_size_in_bits).unpadder()\n",
    "recovered_plaintext = pkcs7_unpadder.update(recovered_plaintext_with_padding) + pkcs7_unpadder.finalize()\n",
    "print(f\"Recovered plaintext: {recovered_plaintext}\")\n",
    "assert (plaintext == recovered_plaintext)"
   ]
  },
  {
   "cell_type": "code",
   "execution_count": null,
   "id": "64907c07-569d-4ab0-9a68-70438786279f",
   "metadata": {},
   "outputs": [],
   "source": []
  }
 ],
 "metadata": {
  "kernelspec": {
   "display_name": "Python 3 (ipykernel)",
   "language": "python",
   "name": "python3"
  },
  "language_info": {
   "codemirror_mode": {
    "name": "ipython",
    "version": 3
   },
   "file_extension": ".py",
   "mimetype": "text/x-python",
   "name": "python",
   "nbconvert_exporter": "python",
   "pygments_lexer": "ipython3",
   "version": "3.12.4"
  }
 },
 "nbformat": 4,
 "nbformat_minor": 5
}
